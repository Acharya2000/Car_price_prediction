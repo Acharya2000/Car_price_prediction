{
 "cells": [
  {
   "cell_type": "code",
   "execution_count": 1,
   "id": "65a12075",
   "metadata": {},
   "outputs": [],
   "source": [
    "import numpy as np \n",
    "import pandas as pd"
   ]
  },
  {
   "cell_type": "code",
   "execution_count": 2,
   "id": "2124044d",
   "metadata": {},
   "outputs": [
    {
     "name": "stdout",
     "output_type": "stream",
     "text": [
      "      brand                            model  model_year      milage  \\\n",
      "0      Ford  Utility Police Interceptor Base        2013  51,000 mi.   \n",
      "1   Hyundai                     Palisade SEL        2021  34,742 mi.   \n",
      "2     Lexus                    RX 350 RX 350        2022  22,372 mi.   \n",
      "3  INFINITI                 Q50 Hybrid Sport        2015  88,900 mi.   \n",
      "4      Audi        Q3 45 S line Premium Plus        2021   9,835 mi.   \n",
      "\n",
      "       fuel_type                                             engine  \\\n",
      "0  E85 Flex Fuel  300.0HP 3.7L V6 Cylinder Engine Flex Fuel Capa...   \n",
      "1       Gasoline                               3.8L V6 24V GDI DOHC   \n",
      "2       Gasoline                                     3.5 Liter DOHC   \n",
      "3         Hybrid  354.0HP 3.5L V6 Cylinder Engine Gas/Electric H...   \n",
      "4       Gasoline                         2.0L I4 16V GDI DOHC Turbo   \n",
      "\n",
      "        transmission                 ext_col int_col  \\\n",
      "0        6-Speed A/T                   Black   Black   \n",
      "1  8-Speed Automatic         Moonlight Cloud    Gray   \n",
      "2          Automatic                    Blue   Black   \n",
      "3        7-Speed A/T                   Black   Black   \n",
      "4  8-Speed Automatic  Glacier White Metallic   Black   \n",
      "\n",
      "                                 accident clean_title    price  \n",
      "0  At least 1 accident or damage reported         Yes  $10,300  \n",
      "1  At least 1 accident or damage reported         Yes  $38,005  \n",
      "2                           None reported         NaN  $54,598  \n",
      "3                           None reported         Yes  $15,500  \n",
      "4                           None reported         NaN  $34,999  \n"
     ]
    }
   ],
   "source": [
    "\n",
    "df=pd.read_csv(r\"D:\\Car_price_prediction\\data\\used_cars.csv\")\n",
    "print(df.head())\n",
    "\n"
   ]
  },
  {
   "cell_type": "code",
   "execution_count": 3,
   "id": "47330d60",
   "metadata": {},
   "outputs": [
    {
     "name": "stdout",
     "output_type": "stream",
     "text": [
      "['Ford' 'Hyundai' 'Lexus' 'INFINITI' 'Audi' 'Acura' 'BMW' 'Tesla' 'Land'\n",
      " 'Aston' 'Toyota' 'Lincoln' 'Jaguar' 'Mercedes-Benz' 'Dodge' 'Nissan'\n",
      " 'Genesis' 'Chevrolet' 'Kia' 'Jeep' 'Bentley' 'Honda' 'Lucid' 'MINI'\n",
      " 'Porsche' 'Hummer' 'Chrysler' 'Volvo' 'Cadillac' 'Lamborghini' 'Maserati'\n",
      " 'Volkswagen' 'Subaru' 'Rivian' 'GMC' 'RAM' 'Alfa' 'Ferrari' 'Scion'\n",
      " 'Mitsubishi' 'Mazda' 'Saturn' 'Bugatti' 'Polestar' 'Rolls-Royce'\n",
      " 'McLaren' 'Buick' 'Lotus' 'Pontiac' 'FIAT' 'Karma' 'Saab' 'Mercury'\n",
      " 'Plymouth' 'smart' 'Maybach' 'Suzuki']\n"
     ]
    }
   ],
   "source": [
    "print(df[\"brand\"].unique())"
   ]
  },
  {
   "cell_type": "code",
   "execution_count": 4,
   "id": "f6b45774",
   "metadata": {},
   "outputs": [
    {
     "data": {
      "text/plain": [
       "Index(['brand', 'model', 'model_year', 'milage', 'fuel_type', 'engine',\n",
       "       'transmission', 'ext_col', 'int_col', 'accident', 'clean_title',\n",
       "       'price'],\n",
       "      dtype='object')"
      ]
     },
     "execution_count": 4,
     "metadata": {},
     "output_type": "execute_result"
    }
   ],
   "source": [
    "df.columns"
   ]
  },
  {
   "cell_type": "code",
   "execution_count": 5,
   "id": "83c1c6fd",
   "metadata": {},
   "outputs": [],
   "source": [
    "df.drop(columns=[\"ext_col\",\"int_col\"],inplace=True)"
   ]
  },
  {
   "cell_type": "code",
   "execution_count": 6,
   "id": "6a63af77",
   "metadata": {},
   "outputs": [
    {
     "data": {
      "text/html": [
       "<div>\n",
       "<style scoped>\n",
       "    .dataframe tbody tr th:only-of-type {\n",
       "        vertical-align: middle;\n",
       "    }\n",
       "\n",
       "    .dataframe tbody tr th {\n",
       "        vertical-align: top;\n",
       "    }\n",
       "\n",
       "    .dataframe thead th {\n",
       "        text-align: right;\n",
       "    }\n",
       "</style>\n",
       "<table border=\"1\" class=\"dataframe\">\n",
       "  <thead>\n",
       "    <tr style=\"text-align: right;\">\n",
       "      <th></th>\n",
       "      <th>brand</th>\n",
       "      <th>model</th>\n",
       "      <th>model_year</th>\n",
       "      <th>milage</th>\n",
       "      <th>fuel_type</th>\n",
       "      <th>engine</th>\n",
       "      <th>transmission</th>\n",
       "      <th>accident</th>\n",
       "      <th>clean_title</th>\n",
       "      <th>price</th>\n",
       "    </tr>\n",
       "  </thead>\n",
       "  <tbody>\n",
       "    <tr>\n",
       "      <th>0</th>\n",
       "      <td>Ford</td>\n",
       "      <td>Utility Police Interceptor Base</td>\n",
       "      <td>2013</td>\n",
       "      <td>51,000 mi.</td>\n",
       "      <td>E85 Flex Fuel</td>\n",
       "      <td>300.0HP 3.7L V6 Cylinder Engine Flex Fuel Capa...</td>\n",
       "      <td>6-Speed A/T</td>\n",
       "      <td>At least 1 accident or damage reported</td>\n",
       "      <td>Yes</td>\n",
       "      <td>$10,300</td>\n",
       "    </tr>\n",
       "    <tr>\n",
       "      <th>1</th>\n",
       "      <td>Hyundai</td>\n",
       "      <td>Palisade SEL</td>\n",
       "      <td>2021</td>\n",
       "      <td>34,742 mi.</td>\n",
       "      <td>Gasoline</td>\n",
       "      <td>3.8L V6 24V GDI DOHC</td>\n",
       "      <td>8-Speed Automatic</td>\n",
       "      <td>At least 1 accident or damage reported</td>\n",
       "      <td>Yes</td>\n",
       "      <td>$38,005</td>\n",
       "    </tr>\n",
       "    <tr>\n",
       "      <th>2</th>\n",
       "      <td>Lexus</td>\n",
       "      <td>RX 350 RX 350</td>\n",
       "      <td>2022</td>\n",
       "      <td>22,372 mi.</td>\n",
       "      <td>Gasoline</td>\n",
       "      <td>3.5 Liter DOHC</td>\n",
       "      <td>Automatic</td>\n",
       "      <td>None reported</td>\n",
       "      <td>NaN</td>\n",
       "      <td>$54,598</td>\n",
       "    </tr>\n",
       "    <tr>\n",
       "      <th>3</th>\n",
       "      <td>INFINITI</td>\n",
       "      <td>Q50 Hybrid Sport</td>\n",
       "      <td>2015</td>\n",
       "      <td>88,900 mi.</td>\n",
       "      <td>Hybrid</td>\n",
       "      <td>354.0HP 3.5L V6 Cylinder Engine Gas/Electric H...</td>\n",
       "      <td>7-Speed A/T</td>\n",
       "      <td>None reported</td>\n",
       "      <td>Yes</td>\n",
       "      <td>$15,500</td>\n",
       "    </tr>\n",
       "    <tr>\n",
       "      <th>4</th>\n",
       "      <td>Audi</td>\n",
       "      <td>Q3 45 S line Premium Plus</td>\n",
       "      <td>2021</td>\n",
       "      <td>9,835 mi.</td>\n",
       "      <td>Gasoline</td>\n",
       "      <td>2.0L I4 16V GDI DOHC Turbo</td>\n",
       "      <td>8-Speed Automatic</td>\n",
       "      <td>None reported</td>\n",
       "      <td>NaN</td>\n",
       "      <td>$34,999</td>\n",
       "    </tr>\n",
       "  </tbody>\n",
       "</table>\n",
       "</div>"
      ],
      "text/plain": [
       "      brand                            model  model_year      milage  \\\n",
       "0      Ford  Utility Police Interceptor Base        2013  51,000 mi.   \n",
       "1   Hyundai                     Palisade SEL        2021  34,742 mi.   \n",
       "2     Lexus                    RX 350 RX 350        2022  22,372 mi.   \n",
       "3  INFINITI                 Q50 Hybrid Sport        2015  88,900 mi.   \n",
       "4      Audi        Q3 45 S line Premium Plus        2021   9,835 mi.   \n",
       "\n",
       "       fuel_type                                             engine  \\\n",
       "0  E85 Flex Fuel  300.0HP 3.7L V6 Cylinder Engine Flex Fuel Capa...   \n",
       "1       Gasoline                               3.8L V6 24V GDI DOHC   \n",
       "2       Gasoline                                     3.5 Liter DOHC   \n",
       "3         Hybrid  354.0HP 3.5L V6 Cylinder Engine Gas/Electric H...   \n",
       "4       Gasoline                         2.0L I4 16V GDI DOHC Turbo   \n",
       "\n",
       "        transmission                                accident clean_title  \\\n",
       "0        6-Speed A/T  At least 1 accident or damage reported         Yes   \n",
       "1  8-Speed Automatic  At least 1 accident or damage reported         Yes   \n",
       "2          Automatic                           None reported         NaN   \n",
       "3        7-Speed A/T                           None reported         Yes   \n",
       "4  8-Speed Automatic                           None reported         NaN   \n",
       "\n",
       "     price  \n",
       "0  $10,300  \n",
       "1  $38,005  \n",
       "2  $54,598  \n",
       "3  $15,500  \n",
       "4  $34,999  "
      ]
     },
     "execution_count": 6,
     "metadata": {},
     "output_type": "execute_result"
    }
   ],
   "source": [
    "df.head(5)"
   ]
  },
  {
   "cell_type": "code",
   "execution_count": 7,
   "id": "83df7010",
   "metadata": {},
   "outputs": [],
   "source": [
    "def replace_accident(text):\n",
    "    if text==\"At least 1 accident or damage reported\":\n",
    "        return 1\n",
    "    else:\n",
    "        return 0"
   ]
  },
  {
   "cell_type": "code",
   "execution_count": 8,
   "id": "ac136320",
   "metadata": {},
   "outputs": [],
   "source": [
    "df[\"accident\"]=df['accident'].apply(replace_accident)"
   ]
  },
  {
   "cell_type": "code",
   "execution_count": 9,
   "id": "9ee09c41",
   "metadata": {},
   "outputs": [
    {
     "data": {
      "text/html": [
       "<div>\n",
       "<style scoped>\n",
       "    .dataframe tbody tr th:only-of-type {\n",
       "        vertical-align: middle;\n",
       "    }\n",
       "\n",
       "    .dataframe tbody tr th {\n",
       "        vertical-align: top;\n",
       "    }\n",
       "\n",
       "    .dataframe thead th {\n",
       "        text-align: right;\n",
       "    }\n",
       "</style>\n",
       "<table border=\"1\" class=\"dataframe\">\n",
       "  <thead>\n",
       "    <tr style=\"text-align: right;\">\n",
       "      <th></th>\n",
       "      <th>brand</th>\n",
       "      <th>model</th>\n",
       "      <th>model_year</th>\n",
       "      <th>milage</th>\n",
       "      <th>fuel_type</th>\n",
       "      <th>engine</th>\n",
       "      <th>transmission</th>\n",
       "      <th>accident</th>\n",
       "      <th>clean_title</th>\n",
       "      <th>price</th>\n",
       "    </tr>\n",
       "  </thead>\n",
       "  <tbody>\n",
       "    <tr>\n",
       "      <th>0</th>\n",
       "      <td>Ford</td>\n",
       "      <td>Utility Police Interceptor Base</td>\n",
       "      <td>2013</td>\n",
       "      <td>51,000 mi.</td>\n",
       "      <td>E85 Flex Fuel</td>\n",
       "      <td>300.0HP 3.7L V6 Cylinder Engine Flex Fuel Capa...</td>\n",
       "      <td>6-Speed A/T</td>\n",
       "      <td>1</td>\n",
       "      <td>Yes</td>\n",
       "      <td>$10,300</td>\n",
       "    </tr>\n",
       "    <tr>\n",
       "      <th>1</th>\n",
       "      <td>Hyundai</td>\n",
       "      <td>Palisade SEL</td>\n",
       "      <td>2021</td>\n",
       "      <td>34,742 mi.</td>\n",
       "      <td>Gasoline</td>\n",
       "      <td>3.8L V6 24V GDI DOHC</td>\n",
       "      <td>8-Speed Automatic</td>\n",
       "      <td>1</td>\n",
       "      <td>Yes</td>\n",
       "      <td>$38,005</td>\n",
       "    </tr>\n",
       "    <tr>\n",
       "      <th>2</th>\n",
       "      <td>Lexus</td>\n",
       "      <td>RX 350 RX 350</td>\n",
       "      <td>2022</td>\n",
       "      <td>22,372 mi.</td>\n",
       "      <td>Gasoline</td>\n",
       "      <td>3.5 Liter DOHC</td>\n",
       "      <td>Automatic</td>\n",
       "      <td>0</td>\n",
       "      <td>NaN</td>\n",
       "      <td>$54,598</td>\n",
       "    </tr>\n",
       "    <tr>\n",
       "      <th>3</th>\n",
       "      <td>INFINITI</td>\n",
       "      <td>Q50 Hybrid Sport</td>\n",
       "      <td>2015</td>\n",
       "      <td>88,900 mi.</td>\n",
       "      <td>Hybrid</td>\n",
       "      <td>354.0HP 3.5L V6 Cylinder Engine Gas/Electric H...</td>\n",
       "      <td>7-Speed A/T</td>\n",
       "      <td>0</td>\n",
       "      <td>Yes</td>\n",
       "      <td>$15,500</td>\n",
       "    </tr>\n",
       "    <tr>\n",
       "      <th>4</th>\n",
       "      <td>Audi</td>\n",
       "      <td>Q3 45 S line Premium Plus</td>\n",
       "      <td>2021</td>\n",
       "      <td>9,835 mi.</td>\n",
       "      <td>Gasoline</td>\n",
       "      <td>2.0L I4 16V GDI DOHC Turbo</td>\n",
       "      <td>8-Speed Automatic</td>\n",
       "      <td>0</td>\n",
       "      <td>NaN</td>\n",
       "      <td>$34,999</td>\n",
       "    </tr>\n",
       "  </tbody>\n",
       "</table>\n",
       "</div>"
      ],
      "text/plain": [
       "      brand                            model  model_year      milage  \\\n",
       "0      Ford  Utility Police Interceptor Base        2013  51,000 mi.   \n",
       "1   Hyundai                     Palisade SEL        2021  34,742 mi.   \n",
       "2     Lexus                    RX 350 RX 350        2022  22,372 mi.   \n",
       "3  INFINITI                 Q50 Hybrid Sport        2015  88,900 mi.   \n",
       "4      Audi        Q3 45 S line Premium Plus        2021   9,835 mi.   \n",
       "\n",
       "       fuel_type                                             engine  \\\n",
       "0  E85 Flex Fuel  300.0HP 3.7L V6 Cylinder Engine Flex Fuel Capa...   \n",
       "1       Gasoline                               3.8L V6 24V GDI DOHC   \n",
       "2       Gasoline                                     3.5 Liter DOHC   \n",
       "3         Hybrid  354.0HP 3.5L V6 Cylinder Engine Gas/Electric H...   \n",
       "4       Gasoline                         2.0L I4 16V GDI DOHC Turbo   \n",
       "\n",
       "        transmission  accident clean_title    price  \n",
       "0        6-Speed A/T         1         Yes  $10,300  \n",
       "1  8-Speed Automatic         1         Yes  $38,005  \n",
       "2          Automatic         0         NaN  $54,598  \n",
       "3        7-Speed A/T         0         Yes  $15,500  \n",
       "4  8-Speed Automatic         0         NaN  $34,999  "
      ]
     },
     "execution_count": 9,
     "metadata": {},
     "output_type": "execute_result"
    }
   ],
   "source": [
    "df.head(5)"
   ]
  },
  {
   "cell_type": "code",
   "execution_count": 10,
   "id": "4991d0e4",
   "metadata": {},
   "outputs": [
    {
     "data": {
      "text/plain": [
       "brand             0\n",
       "model             0\n",
       "model_year        0\n",
       "milage            0\n",
       "fuel_type       170\n",
       "engine            0\n",
       "transmission      0\n",
       "accident          0\n",
       "clean_title     596\n",
       "price             0\n",
       "dtype: int64"
      ]
     },
     "execution_count": 10,
     "metadata": {},
     "output_type": "execute_result"
    }
   ],
   "source": [
    "df.isnull().sum()"
   ]
  },
  {
   "cell_type": "code",
   "execution_count": 11,
   "id": "9100337d",
   "metadata": {},
   "outputs": [
    {
     "data": {
      "text/plain": [
       "(4009, 10)"
      ]
     },
     "execution_count": 11,
     "metadata": {},
     "output_type": "execute_result"
    }
   ],
   "source": [
    "df.shape"
   ]
  },
  {
   "cell_type": "code",
   "execution_count": 12,
   "id": "a1679f17",
   "metadata": {},
   "outputs": [],
   "source": [
    "df.dropna(inplace=True)"
   ]
  },
  {
   "cell_type": "code",
   "execution_count": 13,
   "id": "9d7d5d78",
   "metadata": {},
   "outputs": [
    {
     "name": "stdout",
     "output_type": "stream",
     "text": [
      "<class 'pandas.core.frame.DataFrame'>\n",
      "Index: 3269 entries, 0 to 4008\n",
      "Data columns (total 10 columns):\n",
      " #   Column        Non-Null Count  Dtype \n",
      "---  ------        --------------  ----- \n",
      " 0   brand         3269 non-null   object\n",
      " 1   model         3269 non-null   object\n",
      " 2   model_year    3269 non-null   int64 \n",
      " 3   milage        3269 non-null   object\n",
      " 4   fuel_type     3269 non-null   object\n",
      " 5   engine        3269 non-null   object\n",
      " 6   transmission  3269 non-null   object\n",
      " 7   accident      3269 non-null   int64 \n",
      " 8   clean_title   3269 non-null   object\n",
      " 9   price         3269 non-null   object\n",
      "dtypes: int64(2), object(8)\n",
      "memory usage: 280.9+ KB\n"
     ]
    }
   ],
   "source": [
    "df.info()"
   ]
  },
  {
   "cell_type": "code",
   "execution_count": 14,
   "id": "142e56b9",
   "metadata": {},
   "outputs": [],
   "source": [
    "def remove_ml(text):\n",
    "    a=text\n",
    "    return a[:-3]\n",
    "\n",
    "    "
   ]
  },
  {
   "cell_type": "code",
   "execution_count": 15,
   "id": "737e3482",
   "metadata": {},
   "outputs": [],
   "source": [
    "df[\"milage\"]=df[\"milage\"].apply(remove_ml)"
   ]
  },
  {
   "cell_type": "code",
   "execution_count": 16,
   "id": "54580cfc",
   "metadata": {},
   "outputs": [
    {
     "data": {
      "text/html": [
       "<div>\n",
       "<style scoped>\n",
       "    .dataframe tbody tr th:only-of-type {\n",
       "        vertical-align: middle;\n",
       "    }\n",
       "\n",
       "    .dataframe tbody tr th {\n",
       "        vertical-align: top;\n",
       "    }\n",
       "\n",
       "    .dataframe thead th {\n",
       "        text-align: right;\n",
       "    }\n",
       "</style>\n",
       "<table border=\"1\" class=\"dataframe\">\n",
       "  <thead>\n",
       "    <tr style=\"text-align: right;\">\n",
       "      <th></th>\n",
       "      <th>brand</th>\n",
       "      <th>model</th>\n",
       "      <th>model_year</th>\n",
       "      <th>milage</th>\n",
       "      <th>fuel_type</th>\n",
       "      <th>engine</th>\n",
       "      <th>transmission</th>\n",
       "      <th>accident</th>\n",
       "      <th>clean_title</th>\n",
       "      <th>price</th>\n",
       "    </tr>\n",
       "  </thead>\n",
       "  <tbody>\n",
       "    <tr>\n",
       "      <th>0</th>\n",
       "      <td>Ford</td>\n",
       "      <td>Utility Police Interceptor Base</td>\n",
       "      <td>2013</td>\n",
       "      <td>51,000</td>\n",
       "      <td>E85 Flex Fuel</td>\n",
       "      <td>300.0HP 3.7L V6 Cylinder Engine Flex Fuel Capa...</td>\n",
       "      <td>6-Speed A/T</td>\n",
       "      <td>1</td>\n",
       "      <td>Yes</td>\n",
       "      <td>$10,300</td>\n",
       "    </tr>\n",
       "    <tr>\n",
       "      <th>1</th>\n",
       "      <td>Hyundai</td>\n",
       "      <td>Palisade SEL</td>\n",
       "      <td>2021</td>\n",
       "      <td>34,742</td>\n",
       "      <td>Gasoline</td>\n",
       "      <td>3.8L V6 24V GDI DOHC</td>\n",
       "      <td>8-Speed Automatic</td>\n",
       "      <td>1</td>\n",
       "      <td>Yes</td>\n",
       "      <td>$38,005</td>\n",
       "    </tr>\n",
       "    <tr>\n",
       "      <th>3</th>\n",
       "      <td>INFINITI</td>\n",
       "      <td>Q50 Hybrid Sport</td>\n",
       "      <td>2015</td>\n",
       "      <td>88,900</td>\n",
       "      <td>Hybrid</td>\n",
       "      <td>354.0HP 3.5L V6 Cylinder Engine Gas/Electric H...</td>\n",
       "      <td>7-Speed A/T</td>\n",
       "      <td>0</td>\n",
       "      <td>Yes</td>\n",
       "      <td>$15,500</td>\n",
       "    </tr>\n",
       "    <tr>\n",
       "      <th>6</th>\n",
       "      <td>Audi</td>\n",
       "      <td>S3 2.0T Premium Plus</td>\n",
       "      <td>2017</td>\n",
       "      <td>84,000</td>\n",
       "      <td>Gasoline</td>\n",
       "      <td>292.0HP 2.0L 4 Cylinder Engine Gasoline Fuel</td>\n",
       "      <td>6-Speed A/T</td>\n",
       "      <td>0</td>\n",
       "      <td>Yes</td>\n",
       "      <td>$31,000</td>\n",
       "    </tr>\n",
       "    <tr>\n",
       "      <th>7</th>\n",
       "      <td>BMW</td>\n",
       "      <td>740 iL</td>\n",
       "      <td>2001</td>\n",
       "      <td>242,000</td>\n",
       "      <td>Gasoline</td>\n",
       "      <td>282.0HP 4.4L 8 Cylinder Engine Gasoline Fuel</td>\n",
       "      <td>A/T</td>\n",
       "      <td>0</td>\n",
       "      <td>Yes</td>\n",
       "      <td>$7,300</td>\n",
       "    </tr>\n",
       "  </tbody>\n",
       "</table>\n",
       "</div>"
      ],
      "text/plain": [
       "      brand                            model  model_year    milage  \\\n",
       "0      Ford  Utility Police Interceptor Base        2013   51,000    \n",
       "1   Hyundai                     Palisade SEL        2021   34,742    \n",
       "3  INFINITI                 Q50 Hybrid Sport        2015   88,900    \n",
       "6      Audi             S3 2.0T Premium Plus        2017   84,000    \n",
       "7       BMW                           740 iL        2001  242,000    \n",
       "\n",
       "       fuel_type                                             engine  \\\n",
       "0  E85 Flex Fuel  300.0HP 3.7L V6 Cylinder Engine Flex Fuel Capa...   \n",
       "1       Gasoline                               3.8L V6 24V GDI DOHC   \n",
       "3         Hybrid  354.0HP 3.5L V6 Cylinder Engine Gas/Electric H...   \n",
       "6       Gasoline       292.0HP 2.0L 4 Cylinder Engine Gasoline Fuel   \n",
       "7       Gasoline       282.0HP 4.4L 8 Cylinder Engine Gasoline Fuel   \n",
       "\n",
       "        transmission  accident clean_title    price  \n",
       "0        6-Speed A/T         1         Yes  $10,300  \n",
       "1  8-Speed Automatic         1         Yes  $38,005  \n",
       "3        7-Speed A/T         0         Yes  $15,500  \n",
       "6        6-Speed A/T         0         Yes  $31,000  \n",
       "7                A/T         0         Yes   $7,300  "
      ]
     },
     "execution_count": 16,
     "metadata": {},
     "output_type": "execute_result"
    }
   ],
   "source": [
    "df.head()"
   ]
  },
  {
   "cell_type": "code",
   "execution_count": 17,
   "id": "eaeebde1",
   "metadata": {},
   "outputs": [
    {
     "data": {
      "text/plain": [
       "array(['E85 Flex Fuel', 'Gasoline', 'Hybrid', 'Diesel', 'Plug-In Hybrid',\n",
       "       '–', 'not supported'], dtype=object)"
      ]
     },
     "execution_count": 17,
     "metadata": {},
     "output_type": "execute_result"
    }
   ],
   "source": [
    "df[\"fuel_type\"].unique()"
   ]
  },
  {
   "cell_type": "code",
   "execution_count": 18,
   "id": "aa5b1165",
   "metadata": {},
   "outputs": [
    {
     "data": {
      "text/plain": [
       "(3269, 10)"
      ]
     },
     "execution_count": 18,
     "metadata": {},
     "output_type": "execute_result"
    }
   ],
   "source": [
    "df=df[df[\"fuel_type\"]!=\"-\"]\n",
    "df.shape"
   ]
  },
  {
   "cell_type": "code",
   "execution_count": 19,
   "id": "a47843e7",
   "metadata": {},
   "outputs": [],
   "source": [
    "df[\"clean_title\"]=df[\"clean_title\"].apply(lambda x:1)"
   ]
  },
  {
   "cell_type": "code",
   "execution_count": 20,
   "id": "f9591fb0",
   "metadata": {},
   "outputs": [
    {
     "data": {
      "text/plain": [
       "Index(['brand', 'model', 'model_year', 'milage', 'fuel_type', 'engine',\n",
       "       'transmission', 'accident', 'clean_title', 'price'],\n",
       "      dtype='object')"
      ]
     },
     "execution_count": 20,
     "metadata": {},
     "output_type": "execute_result"
    }
   ],
   "source": [
    "df.columns"
   ]
  },
  {
   "cell_type": "code",
   "execution_count": 21,
   "id": "dfdb7ff3",
   "metadata": {},
   "outputs": [],
   "source": [
    "# Remove commas and convert to int\n",
    "df['milage'] = df['milage'].str.replace(',', '')\n",
    "df['milage'] = df['milage'].astype('int32')\n"
   ]
  },
  {
   "cell_type": "code",
   "execution_count": 22,
   "id": "0d35268e",
   "metadata": {},
   "outputs": [
    {
     "name": "stdout",
     "output_type": "stream",
     "text": [
      "<class 'pandas.core.frame.DataFrame'>\n",
      "Index: 3269 entries, 0 to 4008\n",
      "Data columns (total 10 columns):\n",
      " #   Column        Non-Null Count  Dtype \n",
      "---  ------        --------------  ----- \n",
      " 0   brand         3269 non-null   object\n",
      " 1   model         3269 non-null   object\n",
      " 2   model_year    3269 non-null   int64 \n",
      " 3   milage        3269 non-null   int32 \n",
      " 4   fuel_type     3269 non-null   object\n",
      " 5   engine        3269 non-null   object\n",
      " 6   transmission  3269 non-null   object\n",
      " 7   accident      3269 non-null   int64 \n",
      " 8   clean_title   3269 non-null   int64 \n",
      " 9   price         3269 non-null   object\n",
      "dtypes: int32(1), int64(3), object(6)\n",
      "memory usage: 268.2+ KB\n"
     ]
    }
   ],
   "source": [
    "df.info()"
   ]
  },
  {
   "cell_type": "code",
   "execution_count": 23,
   "id": "3066857f",
   "metadata": {},
   "outputs": [],
   "source": [
    "\n",
    "# Convert price to numeric\n",
    "df['price'] = df['price'].str.replace('$', '')\n",
    "df['price'] = df['price'].str.replace(',', '')\n",
    "df['price'] = df['price'].astype('int32')"
   ]
  },
  {
   "cell_type": "code",
   "execution_count": 24,
   "id": "b23d77d7",
   "metadata": {},
   "outputs": [],
   "source": [
    "X=df.drop(\"price\",axis=1)\n",
    "y=df[\"price\"]"
   ]
  },
  {
   "cell_type": "code",
   "execution_count": 25,
   "id": "0e677340",
   "metadata": {},
   "outputs": [
    {
     "data": {
      "text/plain": [
       "(3269, 9)"
      ]
     },
     "execution_count": 25,
     "metadata": {},
     "output_type": "execute_result"
    }
   ],
   "source": [
    "X.head()\n",
    "X.shape"
   ]
  },
  {
   "cell_type": "code",
   "execution_count": 26,
   "id": "29febb3d",
   "metadata": {},
   "outputs": [
    {
     "data": {
      "text/plain": [
       "(3269,)"
      ]
     },
     "execution_count": 26,
     "metadata": {},
     "output_type": "execute_result"
    }
   ],
   "source": [
    "y.shape"
   ]
  },
  {
   "cell_type": "code",
   "execution_count": 29,
   "id": "34fc2cb4",
   "metadata": {},
   "outputs": [
    {
     "name": "stdout",
     "output_type": "stream",
     "text": [
      "<class 'pandas.core.frame.DataFrame'>\n",
      "Index: 3269 entries, 0 to 4008\n",
      "Data columns (total 9 columns):\n",
      " #   Column        Non-Null Count  Dtype \n",
      "---  ------        --------------  ----- \n",
      " 0   brand         3269 non-null   object\n",
      " 1   model         3269 non-null   object\n",
      " 2   model_year    3269 non-null   int64 \n",
      " 3   milage        3269 non-null   int32 \n",
      " 4   fuel_type     3269 non-null   object\n",
      " 5   engine        3269 non-null   object\n",
      " 6   transmission  3269 non-null   object\n",
      " 7   accident      3269 non-null   int64 \n",
      " 8   clean_title   3269 non-null   int64 \n",
      "dtypes: int32(1), int64(3), object(5)\n",
      "memory usage: 242.6+ KB\n"
     ]
    }
   ],
   "source": [
    "X.info()"
   ]
  },
  {
   "cell_type": "code",
   "execution_count": 30,
   "id": "916e9fb3",
   "metadata": {},
   "outputs": [
    {
     "name": "stdout",
     "output_type": "stream",
     "text": [
      "   model_year    milage  accident  clean_title  fuel_type_E85 Flex Fuel  \\\n",
      "0   -0.260339 -0.395790       1.0          1.0                      1.0   \n",
      "1    1.040212 -0.700365       1.0          1.0                      0.0   \n",
      "2    0.064799  0.314224       0.0          1.0                      0.0   \n",
      "3    0.389936  0.222428       0.0          1.0                      0.0   \n",
      "4   -2.211165  3.182380       0.0          1.0                      0.0   \n",
      "\n",
      "   fuel_type_Gasoline  fuel_type_Hybrid  fuel_type_Plug-In Hybrid  \\\n",
      "0                 0.0               0.0                       0.0   \n",
      "1                 1.0               0.0                       0.0   \n",
      "2                 0.0               1.0                       0.0   \n",
      "3                 1.0               0.0                       0.0   \n",
      "4                 1.0               0.0                       0.0   \n",
      "\n",
      "   fuel_type_not supported  fuel_type_–  ...  transmission_Automatic CVT  \\\n",
      "0                      0.0          0.0  ...                         0.0   \n",
      "1                      0.0          0.0  ...                         0.0   \n",
      "2                      0.0          0.0  ...                         0.0   \n",
      "3                      0.0          0.0  ...                         0.0   \n",
      "4                      0.0          0.0  ...                         0.0   \n",
      "\n",
      "   transmission_CVT Transmission  transmission_M/T  \\\n",
      "0                            0.0               0.0   \n",
      "1                            0.0               0.0   \n",
      "2                            0.0               0.0   \n",
      "3                            0.0               0.0   \n",
      "4                            0.0               0.0   \n",
      "\n",
      "   transmission_Transmission Overdrive Switch  \\\n",
      "0                                         0.0   \n",
      "1                                         0.0   \n",
      "2                                         0.0   \n",
      "3                                         0.0   \n",
      "4                                         0.0   \n",
      "\n",
      "   transmission_Transmission w/Dual Shift Mode  transmission_–  brand   model  \\\n",
      "0                                          0.0             0.0   14.0  1481.0   \n",
      "1                                          0.0             0.0   19.0  1011.0   \n",
      "2                                          0.0             0.0   20.0  1055.0   \n",
      "3                                          0.0             0.0    3.0  1235.0   \n",
      "4                                          0.0             0.0    4.0   119.0   \n",
      "\n",
      "   engine  price  \n",
      "0   492.0  10300  \n",
      "1   478.0  38005  \n",
      "2   630.0  15500  \n",
      "3   442.0  31000  \n",
      "4   415.0   7300  \n",
      "\n",
      "[5 rows x 45 columns]\n"
     ]
    }
   ],
   "source": [
    "import pandas as pd\n",
    "from sklearn.preprocessing import OneHotEncoder, OrdinalEncoder, StandardScaler\n",
    "from sklearn.compose import ColumnTransformer\n",
    "\n",
    "# Identify columns\n",
    "target_col = 'price'\n",
    "\n",
    "numeric_cols = ['model_year', 'milage']                   # continuous numeric\n",
    "binary_cols = ['accident', 'clean_title']                 # binary 0/1 columns\n",
    "categorical_onehot_cols = ['fuel_type', 'transmission']   # nominal\n",
    "categorical_label_cols = ['brand', 'model', 'engine']     # ordinal/encoded labels\n",
    "\n",
    "# Column Transformer with unknown category handling\n",
    "preprocessor = ColumnTransformer(\n",
    "    transformers=[\n",
    "        ('num', StandardScaler(), numeric_cols),\n",
    "        ('bin', 'passthrough', binary_cols),\n",
    "        ('onehot', OneHotEncoder(drop='first', sparse_output=False, handle_unknown='ignore'), categorical_onehot_cols),\n",
    "        ('label', OrdinalEncoder(handle_unknown='use_encoded_value', unknown_value=-1), categorical_label_cols)\n",
    "    ],\n",
    "    remainder='drop'\n",
    ")\n",
    "\n",
    "# Fit and transform\n",
    "transformed_array = preprocessor.fit_transform(X)\n",
    "\n",
    "# --- Get feature names ---\n",
    "onehot_feature_names = preprocessor.named_transformers_['onehot'].get_feature_names_out(categorical_onehot_cols)\n",
    "all_feature_names = (\n",
    "    numeric_cols +\n",
    "    binary_cols +\n",
    "    list(onehot_feature_names) +\n",
    "    categorical_label_cols\n",
    ")\n",
    "\n",
    "# --- Convert to DataFrame ---\n",
    "df_transformed = pd.DataFrame(transformed_array, columns=all_feature_names)\n",
    "\n",
    "# --- Add target column ---\n",
    "df_transformed[target_col] = y.reset_index(drop=True)\n",
    "\n",
    "print(df_transformed.head())\n"
   ]
  },
  {
   "cell_type": "code",
   "execution_count": 31,
   "id": "a23ef168",
   "metadata": {},
   "outputs": [
    {
     "data": {
      "text/plain": [
       "model_year                                        0\n",
       "milage                                            0\n",
       "accident                                          0\n",
       "clean_title                                       0\n",
       "fuel_type_E85 Flex Fuel                           0\n",
       "fuel_type_Gasoline                                0\n",
       "fuel_type_Hybrid                                  0\n",
       "fuel_type_Plug-In Hybrid                          0\n",
       "fuel_type_not supported                           0\n",
       "fuel_type_–                                       0\n",
       "transmission_10-Speed Automatic                   0\n",
       "transmission_4-Speed A/T                          0\n",
       "transmission_4-Speed Automatic                    0\n",
       "transmission_5-Speed A/T                          0\n",
       "transmission_5-Speed Automatic                    0\n",
       "transmission_5-Speed M/T                          0\n",
       "transmission_6-Speed A/T                          0\n",
       "transmission_6-Speed Automatic                    0\n",
       "transmission_6-Speed Automatic with Auto-Shift    0\n",
       "transmission_6-Speed M/T                          0\n",
       "transmission_6-Speed Manual                       0\n",
       "transmission_7-Speed                              0\n",
       "transmission_7-Speed A/T                          0\n",
       "transmission_7-Speed Automatic                    0\n",
       "transmission_7-Speed Automatic with Auto-Shift    0\n",
       "transmission_7-Speed DCT Automatic                0\n",
       "transmission_7-Speed M/T                          0\n",
       "transmission_7-Speed Manual                       0\n",
       "transmission_8-Speed A/T                          0\n",
       "transmission_8-Speed Automatic                    0\n",
       "transmission_8-Speed Automatic with Auto-Shift    0\n",
       "transmission_9-Speed A/T                          0\n",
       "transmission_9-Speed Automatic                    0\n",
       "transmission_A/T                                  0\n",
       "transmission_Automatic                            0\n",
       "transmission_Automatic CVT                        0\n",
       "transmission_CVT Transmission                     0\n",
       "transmission_M/T                                  0\n",
       "transmission_Transmission Overdrive Switch        0\n",
       "transmission_Transmission w/Dual Shift Mode       0\n",
       "transmission_–                                    0\n",
       "brand                                             0\n",
       "model                                             0\n",
       "engine                                            0\n",
       "price                                             0\n",
       "dtype: int64"
      ]
     },
     "execution_count": 31,
     "metadata": {},
     "output_type": "execute_result"
    }
   ],
   "source": [
    "df_transformed.isnull().sum()"
   ]
  },
  {
   "cell_type": "code",
   "execution_count": 32,
   "id": "bf99ca8d",
   "metadata": {},
   "outputs": [
    {
     "data": {
      "text/plain": [
       "(3269, 45)"
      ]
     },
     "execution_count": 32,
     "metadata": {},
     "output_type": "execute_result"
    }
   ],
   "source": [
    "df_transformed.shape"
   ]
  },
  {
   "cell_type": "code",
   "execution_count": 33,
   "id": "bec7faf7",
   "metadata": {},
   "outputs": [
    {
     "data": {
      "text/plain": [
       "Index(['model_year', 'milage', 'accident', 'clean_title',\n",
       "       'fuel_type_E85 Flex Fuel', 'fuel_type_Gasoline', 'fuel_type_Hybrid',\n",
       "       'fuel_type_Plug-In Hybrid', 'fuel_type_not supported', 'fuel_type_–',\n",
       "       'transmission_10-Speed Automatic', 'transmission_4-Speed A/T',\n",
       "       'transmission_4-Speed Automatic', 'transmission_5-Speed A/T',\n",
       "       'transmission_5-Speed Automatic', 'transmission_5-Speed M/T',\n",
       "       'transmission_6-Speed A/T', 'transmission_6-Speed Automatic',\n",
       "       'transmission_6-Speed Automatic with Auto-Shift',\n",
       "       'transmission_6-Speed M/T', 'transmission_6-Speed Manual',\n",
       "       'transmission_7-Speed', 'transmission_7-Speed A/T',\n",
       "       'transmission_7-Speed Automatic',\n",
       "       'transmission_7-Speed Automatic with Auto-Shift',\n",
       "       'transmission_7-Speed DCT Automatic', 'transmission_7-Speed M/T',\n",
       "       'transmission_7-Speed Manual', 'transmission_8-Speed A/T',\n",
       "       'transmission_8-Speed Automatic',\n",
       "       'transmission_8-Speed Automatic with Auto-Shift',\n",
       "       'transmission_9-Speed A/T', 'transmission_9-Speed Automatic',\n",
       "       'transmission_A/T', 'transmission_Automatic',\n",
       "       'transmission_Automatic CVT', 'transmission_CVT Transmission',\n",
       "       'transmission_M/T', 'transmission_Transmission Overdrive Switch',\n",
       "       'transmission_Transmission w/Dual Shift Mode', 'transmission_–',\n",
       "       'brand', 'model', 'engine', 'price'],\n",
       "      dtype='object')"
      ]
     },
     "execution_count": 33,
     "metadata": {},
     "output_type": "execute_result"
    }
   ],
   "source": [
    "df_transformed.columns"
   ]
  },
  {
   "cell_type": "code",
   "execution_count": 148,
   "id": "f48c0aed",
   "metadata": {},
   "outputs": [],
   "source": [
    "df_transformed.to_csv(\"df_transformed.csv\",index=False )"
   ]
  },
  {
   "cell_type": "code",
   "execution_count": 35,
   "id": "4bf99a40",
   "metadata": {},
   "outputs": [
    {
     "name": "stdout",
     "output_type": "stream",
     "text": [
      "✅ Fitted ColumnTransformer saved as 'preprocessor.pkl'\n"
     ]
    }
   ],
   "source": [
    "import pickle\n",
    "\n",
    "# Suppose your fitted transformer is called `preprocessor`\n",
    "with open(\"preprocessor.pkl\", \"wb\") as f:\n",
    "    pickle.dump(preprocessor, f)\n",
    "\n",
    "print(\"✅ Fitted ColumnTransformer saved as 'preprocessor.pkl'\")\n"
   ]
  },
  {
   "cell_type": "code",
   "execution_count": null,
   "id": "2d896ae1",
   "metadata": {},
   "outputs": [],
   "source": []
  }
 ],
 "metadata": {
  "kernelspec": {
   "display_name": "car-price-prediction",
   "language": "python",
   "name": "python3"
  },
  "language_info": {
   "codemirror_mode": {
    "name": "ipython",
    "version": 3
   },
   "file_extension": ".py",
   "mimetype": "text/x-python",
   "name": "python",
   "nbconvert_exporter": "python",
   "pygments_lexer": "ipython3",
   "version": "3.11.13"
  }
 },
 "nbformat": 4,
 "nbformat_minor": 5
}
